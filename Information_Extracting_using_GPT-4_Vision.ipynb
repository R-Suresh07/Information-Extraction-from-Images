{
 "cells": [
  {
   "cell_type": "code",
   "execution_count": 1,
   "id": "effcc413",
   "metadata": {},
   "outputs": [],
   "source": [
    "import base64\n",
    "import requests\n",
    "from openai import OpenAI\n",
    "# OpenAI API Key\n",
    "api_key = \"Insert-Your-OpenAi-API-Key-Here\"\n",
    "\n",
    "# Function to encode the image\n",
    "def encode_image(image_path):\n",
    "    with open(image_path, \"rb\") as image_file:\n",
    "        return base64.b64encode(image_file.read()).decode('utf-8')\n",
    "headers = {\n",
    "        \"Content-Type\": \"application/json\",\n",
    "        \"Authorization\": f\"Bearer {api_key}\"\n",
    "}\n",
    "client = OpenAI(api_key = api_key)\n",
    "def question_image(url,query,detail=\"low\"):\n",
    "    if url.startswith(\"http://\")or url.startswith(\"https://\"):\n",
    "        response = client.chat.completions.create(\n",
    "            model=\"gpt-4-vision-preview\",\n",
    "            messages=[\n",
    "            {\n",
    "            \"role\": \"user\",\n",
    "            \"content\": [\n",
    "                {\"type\": \"text\", \"text\": f\"{query}\"},\n",
    "                    {\n",
    "                    \"type\": \"image_url\",\n",
    "                    \"image_url\": url,\n",
    "                    },\n",
    "                ],\n",
    "            }\n",
    "        ],\n",
    "        max_tokens=1000,\n",
    "            \n",
    "        )\n",
    "        return response.choices[0].message.content\n",
    "    else:\n",
    "        \n",
    "        base64_image = encode_image(url)\n",
    "\n",
    "        payload = {\n",
    "            \"model\": \"gpt-4-vision-preview\",\n",
    "            \"messages\": [\n",
    "              {\n",
    "                \"role\": \"user\",\n",
    "                \"content\": [\n",
    "                  {\n",
    "                    \"type\": \"text\",\n",
    "                    \"text\": f\"{query}?\"\n",
    "                  },\n",
    "                  {\n",
    "                    \"type\": \"image_url\",\n",
    "                    \"image_url\": {\n",
    "                      \"url\": f\"data:image/jpeg;base64,{base64_image}\"\n",
    "                    },\n",
    "                  }\n",
    "                ]\n",
    "              }\n",
    "            ],\n",
    "            \"max_tokens\": 1000\n",
    "        }\n",
    "\n",
    "        response = requests.post(\"https://api.openai.com/v1/chat/completions\", headers=headers, json=payload)\n",
    "\n",
    "        temp=response.json()\n",
    "        return temp['choices'][0]['message']['content']"
   ]
  },
  {
   "cell_type": "code",
   "execution_count": 2,
   "id": "2f099b94",
   "metadata": {},
   "outputs": [
    {
     "name": "stdout",
     "output_type": "stream",
     "text": [
      "```json\n",
      "{\n",
      "  \"airline_name\": \"Singapore Airlines\",\n",
      "  \"passenger_name\": \"Heng Kok Hong Mr\",\n",
      "  \"flight_num\": \"SQ 231\",\n",
      "  \"departure_city\": \"SIN (Singapore)\",\n",
      "  \"destination_city\": \"SYD (Sydney)\",\n",
      "  \"date_of_departure\": \"19JAN18\"\n",
      "}\n",
      "```\n"
     ]
    }
   ],
   "source": [
    "query=\"Extract the airline_name,passenger_name,flight_num,departure_city,destination_city and date_of_departure from this boarding pass in a JSON format\"\n",
    "image_url=r\"singapore.jpg\"\n",
    "abc=question_image(image_url,query)\n",
    "print(abc)"
   ]
  }
 ],
 "metadata": {
  "kernelspec": {
   "display_name": "Python 3 (ipykernel)",
   "language": "python",
   "name": "python3"
  },
  "language_info": {
   "codemirror_mode": {
    "name": "ipython",
    "version": 3
   },
   "file_extension": ".py",
   "mimetype": "text/x-python",
   "name": "python",
   "nbconvert_exporter": "python",
   "pygments_lexer": "ipython3",
   "version": "3.10.9"
  }
 },
 "nbformat": 4,
 "nbformat_minor": 5
}
